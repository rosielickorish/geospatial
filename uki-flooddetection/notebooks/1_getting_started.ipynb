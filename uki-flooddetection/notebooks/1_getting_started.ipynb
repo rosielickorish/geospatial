{
 "cells": [
  {
   "cell_type": "markdown",
   "metadata": {
    "id": "Pmn7Adc-L-Fg"
   },
   "source": [
    " # Getting started with granite-geospatial-uki-flood-detection\n",
    "\n",
    "This notebook demonstrates how to use the granite-geospatial-uki-flood-detection model hosted on Hugging Face for the segmentation of flood events.\n",
    "\n",
    "The granite-geospatial-uki-flood-detection model is a fine-tuned geospatial foundation model for detecting flood and surface water using multispectral and synthetic aperture radar (SAR) satellite imagery. The model predicts areas of water from Sentinel-2 and Sentinel-1 SAR imagery and was trained on flood events from the United Kingdom and Ireland, recorded by the [Copernicus Emergency Management service (CEMS)](https://emergency.copernicus.eu/).  Please see the [model card](../granite-geospatial-flood-detection-uki-model-card.md) for more details. The model was fine-tuned from the [granite-geospatial-uki model](../granite-geospatial-uki-model-card.md),\n",
    "this model follows the same architecture as [Prithvi-EO](https://huggingface.co/collections/ibm-nasa-geospatial/prithvi-for-earth-observation-6740a7a81883466bf41d93d6) and has also been released.\n",
    "\n",
    "Our experiments have shown that while granite-geospatial-uki-flood-detection works best in the UK and Ireland, the base model granite-geospatial-uki can also be successfully fine-tuned for flood detection in other locations. To learn more about fine tuning the base model to other locations, please see the [fine tuning notebook](../notebooks/2_fine_tuning.ipynb), which demonstrates fine tuning and inference for Spain.\n",
    "\n",
    "This notebook demonstrates how to run inference using [**granite-geospatial-uki-flood-detection-v1**](../granite-geospatial-flood-detection-uki-model-card.md) (which was fine tuned on UK and Ireland data) and is split into two parts:\n",
    "\n",
    "1. Inference: The [**granite-geospatial-uki-flood-detection-v1**](../granite-geospatial-flood-detection-uki-model-card.md) model is loaded and used to run inference on test data for flood events across UK and Ireland that were not seen in the training data.\n",
    "\n",
    "2. Evaluation. We compare the model above against inference results trained using only Sentinel-2 and show the improvement in performance by incorporating Sentinel-1 data, in particular in the presence of clouds.\n",
    "\n",
    "Please note:\n",
    "\n",
    "This example uses the fine tuned model for UK and Ireland (granite-geospatial-uki-flood-detection-v1). To use the model fine-tuned for Spain instead please see [2_fine_tuning-tuning.ipynb](./2_fine_tuning.ipynb).\n",
    "\n"
   ]
  },
  {
   "cell_type": "markdown",
   "metadata": {
    "id": "rZXYAfNoL-Fi"
   },
   "source": [
    "  ## Setting up your environment\n",
    "\n",
    "  The granite-geospatial-uki-flood-detection model is trained using the [Terratorch](https://github.com/IBM/terratorch/) framework. Terratorch simplifies the integration of foundation model backbones into the TorchGeo framework and provides generic LightningDataModules that can be built at runtime. For more information on Terratorch, please refer to the instructions in the [Terratorch Quick Start Guide](https://github.com/IBM/terratorch/blob/main/docs/quick_start.md). To set up your environments for running this notebook on Google Colab, please see section 0.1. If you plan to run this notebook on a local machine please see section 0.2 instead for set-up instructions."
   ]
  },
  {
   "cell_type": "markdown",
   "metadata": {
    "id": "7yJq80R0VFTn"
   },
   "source": [
    "### 0.1 set-up for running on Google Colab\n",
    "\n",
    "#### 0.1.1 check python version\n",
    "It's recommended that you run this notebook using python 3.10. Let's check the python version by executing the cell below."
   ]
  },
  {
   "cell_type": "code",
   "execution_count": null,
   "metadata": {
    "colab": {
     "base_uri": "https://localhost:8080/"
    },
    "id": "NZDtTYAOdcvZ",
    "outputId": "88f34572-d4d1-4793-f174-43e7dfeb9856"
   },
   "outputs": [],
   "source": [
    "!python --version"
   ]
  },
  {
   "cell_type": "markdown",
   "metadata": {
    "id": "VuZAAy2UWHl2"
   },
   "source": [
    "#### 0.1.2 setting up your environment\n",
    "To install the necessary packages, execute the cell below. This will take a few minutes. Once the installation process is done, a window will pop up to ask you to restart the session. This is normal and you should proceed to restart using the interface in the pop up window. Once the session has restarted, it's important that you ignore the cell below, and go straight to section 0.0.3."
   ]
  },
  {
   "cell_type": "code",
   "execution_count": null,
   "metadata": {
    "colab": {
     "base_uri": "https://localhost:8080/",
     "height": 1000
    },
    "id": "oOIOUFFWL-Fi",
    "outputId": "0b1ccb0a-5754-45ae-83ed-78dfa7d75892"
   },
   "outputs": [],
   "source": [
    "import sys\n",
    "\n",
    "# if running on colab\n",
    "if \"google.colab\" in sys.modules:\n",
    "    # Clone the ibm-granite GitHub repo\n",
    "    !git clone https://github.com/ibm-granite/geospatial.git\n",
    "    # Install the package\n",
    "    %pip install -e ./geospatial/uki-flooddetection[colab]   \n"
   ]
  },
  {
   "cell_type": "markdown",
   "metadata": {
    "id": "E8o3CinbWzIH"
   },
   "source": [
    "#### 0.1.3 Set up working directory\n",
    "This is the first thing you should run after restarting your Colab session."
   ]
  },
  {
   "cell_type": "code",
   "execution_count": null,
   "metadata": {
    "colab": {
     "base_uri": "https://localhost:8080/"
    },
    "id": "cHiv8xhC1-Y5",
    "outputId": "6acf8775-b421-44c5-f2b3-d9e990e9f83f"
   },
   "outputs": [],
   "source": [
    "import sys\n",
    "\n",
    "# Only run this cell if running on Colab.\n",
    "if \"google.colab\" in sys.modules:\n",
    "    # Change to the notebooks directory\n",
    "    %cd geospatial/uki-flooddetection/notebooks\n",
    "    %pwd"
   ]
  },
  {
   "cell_type": "markdown",
   "metadata": {
    "id": "3Q37jZwqYPqR"
   },
   "source": [
    "Now your environment is set up for Google Colab. Please proceed to section 0.3."
   ]
  },
  {
   "cell_type": "markdown",
   "metadata": {
    "id": "Y__sEYERL-Fj"
   },
   "source": [
    "### 0.2 set-up for running on your local machine\n",
    "\n",
    "Before running through this notebook it's best to create a virtual environment and install the necessary packages there before running this notebook. The instructions can be found in [README.md](../README.md).\n",
    "\n",
    "  Once that's done, come back to this notebook and make sure it's using the newly made virtual environment.\n",
    "\n",
    "  Please proceed to section 0.3."
   ]
  },
  {
   "cell_type": "markdown",
   "metadata": {
    "id": "Q6r_cvj0YY-y"
   },
   "source": [
    "### 0.3 importing packages and setting up paths"
   ]
  },
  {
   "cell_type": "code",
   "execution_count": null,
   "metadata": {
    "id": "smPr4gJSL-Fj"
   },
   "outputs": [],
   "source": [
    "# imports\n",
    "import os\n",
    "from pathlib import Path\n",
    "from collections import defaultdict\n",
    "import pandas as pd\n",
    "import re\n",
    "\n",
    "from huggingface_hub import hf_hub_download\n",
    "\n",
    "from granite_geo_flood.utils.helper import (\n",
    "    compare_images_label_pred,\n",
    "    gather_truth_and_pred,\n",
    "    calc_metrics,\n",
    "    download_data,\n",
    ")\n"
   ]
  },
  {
   "cell_type": "code",
   "execution_count": null,
   "metadata": {
    "id": "Y8j-UxLnL-Fj"
   },
   "outputs": [],
   "source": [
    "# some initial set-up\n",
    "%matplotlib inline\n",
    "\n",
    "project_root = Path(\"../\")\n",
    "hf_repo_name = \"ibm-granite/granite-geospatial-uki-flooddetection\"  \n"
   ]
  },
  {
   "cell_type": "markdown",
   "metadata": {
    "id": "EQG73z_eL-Fk"
   },
   "source": [
    "Let's also set up something that is common across both models."
   ]
  },
  {
   "cell_type": "code",
   "execution_count": null,
   "metadata": {
    "id": "tIdBbisBL-Fk"
   },
   "outputs": [],
   "source": [
    "# indices of RGB bands, in order, in the input images of size (h x w x bands)\n",
    "rgb_bands = [\n",
    "    4,\n",
    "    3,\n",
    "    2,\n",
    "]\n",
    "\n",
    "# index of VV band, in the input images of size (h x w x bands)\n",
    "vv_band = 0"
   ]
  },
  {
   "cell_type": "markdown",
   "metadata": {
    "id": "4OQOIsETL-Fk"
   },
   "source": [
    " ## 1. Sentinel-2 and Sentinel-1 model (granite-geospatial-uki-flood-detection)\n",
    "\n",
    " This fine-tuned model used Sentinel-2 [Blue, Green , Red, Narrow NIR, SWIR 1, SWIR 2, cloud] and Sentinel-1 [VV, VH] bands, and used the granite-geospatial-uki pre-trained model.\n",
    "\n",
    "\n",
    "### 1.1 Prepare data\n",
    "\n",
    " Let's gather and specify the relevant files for carrying out inference in a new folder."
   ]
  },
  {
   "cell_type": "code",
   "execution_count": null,
   "metadata": {
    "colab": {
     "base_uri": "https://localhost:8080/",
     "height": 176,
     "referenced_widgets": [
      "91f5148ce644465c94fb6160db6baef3",
      "841d729ffd6746cc84ed4bd1303ad211",
      "8e44597a23374d74b8a4479eb173b7d2",
      "f3815707194c4fa996c0ca6e62d80226",
      "d6d610dd9a6a4d3da9040f9048ae5a3d",
      "bb01339aa1984c93a4d752d732a1f8cd",
      "caa84426a4df49f3a729c9bd1e11bddd",
      "9da20ca5adcb4aed9c5b3328f1d2b875",
      "94486033a6cf41bfaf24a10d71b79590",
      "ca01955f58ac4046acca5b5b20584e7c",
      "fbaec2653be342bc9a064eeeb6c214c1"
     ]
    },
    "id": "qZkJbU5-L-Fk",
    "outputId": "b1316baf-467c-4f37-bf7b-4a335ef4d5e7"
   },
   "outputs": [],
   "source": [
    "# download model config\n",
    "config_name = \"config.yaml\"\n",
    "config_folder = project_root / \"configs\"\n",
    "\n",
    "config_file = Path(\n",
    "    hf_hub_download(\n",
    "        repo_id=hf_repo_name,\n",
    "        filename=config_name,\n",
    "        local_dir=config_folder,\n",
    "    )\n",
    ")\n",
    "\n",
    "#rename the config file so that it doesn't get overwritten if using both notebooks\n",
    "config_file = config_file.replace(config_folder / \"config_granite_geospatial_uki_flood_detection_v1.yaml\")\n"
   ]
  },
  {
   "cell_type": "code",
   "execution_count": null,
   "metadata": {
    "colab": {
     "base_uri": "https://localhost:8080/",
     "height": 49,
     "referenced_widgets": [
      "5921df9fcb4e42a1ad1da01a6224f013",
      "57fb6d0ae9fb47969bb1ded449026ef7",
      "80492eafd7664a84b43a39c419e6fec6",
      "b289080cd56e4d2489c5124f732d70d4",
      "89bafcdc70de4fc8af0176383cfc27de",
      "b5801ad520b14fbcbce7fcd58275f7c0",
      "bfb6b1b3cf684a77a540c7c629ac7196",
      "1474007c34db4c77b145f7257b177bc7",
      "53f28914df40480ba32cf89ef99a1fe8",
      "13df5f928a2d456eba073537a8f4f05c",
      "f415e0a6a5eb477c9a71a8b319135caf"
     ]
    },
    "id": "tlfEmo4KL-Fk",
    "outputId": "94bacaca-722b-4f66-8cc7-89dd90df2dd0"
   },
   "outputs": [],
   "source": [
    "# download model checkpoint\n",
    "checkpoint_name = \"granite_geospatial_uki_flood_detection_v1.ckpt\"\n",
    "checkpoint_folder = project_root / \"data\" / \"checkpoints\"\n",
    "\n",
    "inference_checkpoint = Path(\n",
    "    hf_hub_download(\n",
    "        repo_id=hf_repo_name,\n",
    "        filename=checkpoint_name,\n",
    "        local_dir=checkpoint_folder,\n",
    "    )\n",
    ")\n"
   ]
  },
  {
   "cell_type": "code",
   "execution_count": null,
   "metadata": {
    "id": "QKSlQm9XL-Fk"
   },
   "outputs": [],
   "source": [
    "# specify where you want to save your inference results\n",
    "model_name = \"granite_geospatial_uki_flood_detection_v1\"\n",
    "inference_dir = project_root / \"data\" / \"inference\" / model_name\n",
    "\n",
    "# specify where the test images are stored\n",
    "data_path = project_root / \"data\" / \"regions\"\n",
    "os.makedirs(data_path, exist_ok=True)\n",
    "data_dir = data_path / \"uki\" / \"holdout\" / \"images\"\n"
   ]
  },
  {
   "cell_type": "code",
   "execution_count": null,
   "metadata": {
    "colab": {
     "base_uri": "https://localhost:8080/"
    },
    "id": "PazWnKR1L-Fk",
    "outputId": "bcf97da8-a4a6-41a5-fe7e-c3276f2fe4fa",
    "scrolled": true
   },
   "outputs": [],
   "source": [
    "# Download data and uncompress\n",
    "save_file = (\n",
    "    project_root / \"data\" / \"granite-geospatial-uki-flooddetection-dataset-uki.tar.gz\"\n",
    ")\n",
    "download_data(\"uki\", save_file)\n",
    "command = f'tar -xf \"{str(save_file)}\" --directory \"{str(data_path)}\"'\n",
    "os.system(command)\n"
   ]
  },
  {
   "cell_type": "markdown",
   "metadata": {
    "id": "oVUDBWYaL-Fl"
   },
   "source": [
    "  ### 1.2 Run Inference\n",
    "\n",
    "Let's carry out inference on the test images. The test images are samples from the following flood events: \n",
    "- [EMSR407](https://emergency.copernicus.eu/mapping/list-of-components/EMSR407): North of England, November 2019 \n",
    "- [EMSR429](https://emergency.copernicus.eu/mapping/list-of-components/EMSR429): Ireland, February 2020\n",
    "- [EMSR698](https://rapidmapping.emergency.copernicus.eu/EMSR698/): Scotland, October 2023\n",
    " \n",
    "Execute the cell below to print out a command. Check that all the paths look ok. If it looks good, execute the command in the next cell.\n",
    "\n",
    "Please note: **Granite-geospatial-uki** is not a standard model in Terratorch. To load the model (or any custom backbone) we can put the model file in a folder called `custom_modules`. In this example the file is called `granite_geospatial_uki.py`. If you're planning to run this command outside of this notebook when applying to your own project, it's important to **make sure you're running terratorch from the directory where the `custom_modules` folder is located**.  \n",
    "\n"
   ]
  },
  {
   "cell_type": "code",
   "execution_count": null,
   "metadata": {
    "colab": {
     "base_uri": "https://localhost:8080/"
    },
    "id": "f-_xXQviL-Fl",
    "outputId": "4847ae9e-3fe4-47ec-e295-5605f974026a"
   },
   "outputs": [],
   "source": [
    "# run inference\n",
    "command = f\"terratorch predict -c ./{config_file} --ckpt_path ./{inference_checkpoint} --predict_output_dir ./{inference_dir} --data.init_args.predict_data_root ./{data_dir}\"\n",
    "print(command)"
   ]
  },
  {
   "cell_type": "code",
   "execution_count": null,
   "metadata": {
    "colab": {
     "base_uri": "https://localhost:8080/"
    },
    "id": "CvDE3SDSL-Fl",
    "outputId": "677c0aa4-8795-4af4-aab5-46c4b8f9e999"
   },
   "outputs": [],
   "source": [
    "os.system(command)"
   ]
  },
  {
   "cell_type": "code",
   "execution_count": null,
   "metadata": {
    "id": "1xC8i8jLL-Fl"
   },
   "outputs": [],
   "source": [
    "# saving this to use in section 3\n",
    "inf_dir_pretrain = inference_dir"
   ]
  },
  {
   "cell_type": "markdown",
   "metadata": {
    "id": "xay2dQyCL-Fl"
   },
   "source": [
    " ## 2. Load pre-calculated inference from a Sentinel-2-only model\n",
    "\n",
    "For comparison, we use a model which was fine-tuned from [Prithvi-100M](https://huggingface.co/ibm-nasa-geospatial/Prithvi-100M), which was pre-trained on Harmonised Landsat and Sentinel-2 data for the US and does not include SAR data. For your convenience, we have already run inference for this model. Let's gather and specify the relevant files."
   ]
  },
  {
   "cell_type": "code",
   "execution_count": null,
   "metadata": {
    "id": "pDMzLuUPL-Fl"
   },
   "outputs": [],
   "source": [
    "inf_dir_HLS = project_root / \"resources\" / \"s2_only_inference\""
   ]
  },
  {
   "cell_type": "markdown",
   "metadata": {
    "id": "XbKc_AJDL-Fl"
   },
   "source": [
    "## 3. Model comparison\n",
    "\n",
    "Let's have a look at some inference examples. Let's pick images which have a range of cloud conditions to get a feel for the full-spectrum of model performance. We load and plot the data below."
   ]
  },
  {
   "cell_type": "code",
   "execution_count": null,
   "metadata": {
    "id": "9MOIw9waL-Fl"
   },
   "outputs": [],
   "source": [
    "example_images = [\n",
    "    \"EMSR407_AOI_3_2019-11-14_tile_0_2\",  # mostly cloud-free\n",
    "    \"EMSR698_AOI_36_2023-10-10_tile_4_1\",  # half cloudy\n",
    "    \"EMSR429_AOI_55_2020-02-26_tile_0_2\",  # very cloudy\n",
    "]"
   ]
  },
  {
   "cell_type": "code",
   "execution_count": null,
   "metadata": {
    "id": "ooO-jqRLL-Fl"
   },
   "outputs": [],
   "source": [
    "# find the relevant data\n",
    "label_dir = data_dir.parent / \"labels\"\n",
    "truth_labels = sorted(list(label_dir.rglob(\"EMSR*test*label.tif\")))\n",
    "pred_labels_HLS = sorted(list(inf_dir_HLS.rglob(\"EMSR*test*image_pred.tif\")))\n",
    "pred_labels_granite = sorted(list(inf_dir_pretrain.rglob(\"EMSR*test*image_pred.tif\")))\n",
    "input_images = sorted(list(data_dir.rglob(\"EMSR*test*image.tif\")))"
   ]
  },
  {
   "cell_type": "code",
   "execution_count": null,
   "metadata": {
    "colab": {
     "base_uri": "https://localhost:8080/",
     "height": 799
    },
    "id": "b7tcyhPsL-Fl",
    "outputId": "c725eead-a927-47e8-b0cd-d784ad65c5ce"
   },
   "outputs": [],
   "source": [
    "# defining where to save the data\n",
    "save_dir = project_root / \"plots\" / \"uki_model_comparison\"\n",
    "\n",
    "search_pattern = \"(.*_\\\\d{4}-\\\\d{2}-\\\\d{2}_tile_\\\\d_\\\\d)\"\n",
    "\n",
    "os.makedirs(save_dir, exist_ok=True)\n",
    "for plot_data in zip(input_images, truth_labels, pred_labels_HLS, pred_labels_granite):\n",
    "    file_stem = re.findall(search_pattern, plot_data[0].stem)[0]\n",
    "    if file_stem in example_images:\n",
    "        compare_images_label_pred(\n",
    "            plot_data[0],\n",
    "            plot_data[1],\n",
    "            plot_data[2],\n",
    "            plot_data[3],\n",
    "            \"s2_only\",\n",
    "            \"granite\",\n",
    "            vv_band,\n",
    "            rgb_bands,\n",
    "            save_dir,\n",
    "        )"
   ]
  },
  {
   "cell_type": "markdown",
   "metadata": {
    "id": "rpqRowTUL-Fl"
   },
   "source": [
    "We see a few things here. \n",
    "1. Where pixels have both S1 and cloud-free S2 data available, the granite-geospatial-uki-flood-detection model has comparible performance to the S2-only model. (e.g. the top figure)\n",
    "2. Where there's heavy cloud coverage, the granite-geospatial-uki-flood-detection model helps with flood segmentation performance, helped by the additional S1 bands. (e.g. under cloud-covered areas in the middle and lower figures).\n",
    "3. Where there is S1 imagery available but no S2, there may be some model artefacts. Some possible reasons for this could be due to not having enough of this type of scenario in the training set, or it could also be because the missing value regions are being confused with water in the model. (e.g. the right half of the middle figure, where S2 data is missing).\n",
    "\n",
    "To safeguard predictions we recommend to only run inference on images where S1 and S2 are available across the whole field of view. If you wish to use only S1 data, we advise to fine-tune the granite-geospatial-uki model using S1 only data. An example on how to fine-tune using our model can be found in the notebook [2_fine_tuning.ipynb](./2_fine_tuning.ipynb). This demonstrates the use of different model configurations (config_granite_geospatial_uki_flood_detection_v2.yaml) and weights (granite_geospatial_uki_flood_detection_v2.ckpt) when carrying out fine-tuning and inference for a different region."
   ]
  },
  {
   "cell_type": "markdown",
   "metadata": {
    "id": "R4ZilPCEL-Fl"
   },
   "source": [
    "We will now evaluate the model performance on the \"good\" images i.e. where flooding can be seen in all bands (5 images). We compare this to an evaluation using on all test images (9 images), which includes those with clouds."
   ]
  },
  {
   "cell_type": "code",
   "execution_count": null,
   "metadata": {
    "id": "uqwfuJ5VL-Fm"
   },
   "outputs": [],
   "source": [
    "good_images = [\n",
    "    \"EMSR407_AOI_3_2019-11-14_tile_0_2\",\n",
    "    \"EMSR407_AOI_3_2019-11-14_tile_1_1\",\n",
    "    \"EMSR429_AOI_5_2020-03-02_tile_2_1\",\n",
    "    \"EMSR429_AOI_5_2020-03-02_tile_3_2\",\n",
    "    \"EMSR429_AOI_61_2020-02-26_tile_2_3\",\n",
    "]"
   ]
  },
  {
   "cell_type": "code",
   "execution_count": null,
   "metadata": {
    "id": "1HxEYIoqL-Fm"
   },
   "outputs": [],
   "source": [
    "metric_dict = defaultdict(float)\n",
    "\n",
    "# evaluating on all images for HLS model\n",
    "pred_files, truth_files = gather_truth_and_pred(inf_dir_HLS, label_dir, \"test\")\n",
    "metric_dict[\"S2 only model | all images (9 images)\"] = calc_metrics(\n",
    "    truth_files, pred_files\n",
    ")\n",
    "\n",
    "truth_files_good = [\n",
    "    truth_file\n",
    "    for truth_file in truth_files\n",
    "    if truth_file.stem.split(\"_test\")[0] in good_images\n",
    "]\n",
    "pred_files_good = [\n",
    "    pred_file\n",
    "    for pred_file in pred_files\n",
    "    if pred_file.stem.split(\"_test\")[0] in good_images\n",
    "]\n",
    "metric_dict[\"S2 only model | good images (5 images)\"] = calc_metrics(\n",
    "    truth_files_good, pred_files_good\n",
    ")\n",
    "\n",
    "# evaluating on all images for additional bands model\n",
    "pred_files, truth_files = gather_truth_and_pred(inf_dir_pretrain, label_dir, \"test\")\n",
    "metric_dict[\"granite-geospatial-uki-flood-detection-v1 | all images (9 images)\"] = (\n",
    "    calc_metrics(truth_files, pred_files)\n",
    ")\n",
    "\n",
    "truth_files_good = [\n",
    "    truth_file\n",
    "    for truth_file in truth_files\n",
    "    if truth_file.stem.split(\"_test\")[0] in good_images\n",
    "]\n",
    "pred_files_good = [\n",
    "    pred_file\n",
    "    for pred_file in pred_files\n",
    "    if pred_file.stem.split(\"_test\")[0] in good_images\n",
    "]\n",
    "metric_dict[\"granite-geospatial-uki-flood-detection-v1 | good images (5 images)\"] = (\n",
    "    calc_metrics(truth_files_good, pred_files_good)\n",
    ")\n"
   ]
  },
  {
   "cell_type": "code",
   "execution_count": null,
   "metadata": {
    "id": "OEcy-lo9L-Fm"
   },
   "outputs": [],
   "source": [
    "# gathering metrics into a table\n",
    "metrics = pd.DataFrame.from_dict(metric_dict, orient=\"index\").reset_index()\n",
    "metrics[[\"index\", \"eval_target\"]] = metrics[\"index\"].str.split(\"|\", expand=True)\n",
    "metrics.rename(columns={\"index\": \"model\"}, inplace=True)\n",
    "metrics = metrics[[\"model\", \"eval_target\", \"mIoU\", \"F1\"]]\n",
    "\n",
    "display(metrics)"
   ]
  },
  {
   "cell_type": "markdown",
   "metadata": {
    "id": "Qrc8d5YlL-Fm"
   },
   "source": [
    "We see that both the Sentinel-2 only model and the granite-geospatial-uki-flood-detection model perform well when evaluating on the \"good\" images (i.e. mostly cloud-free / has good spatial coverage), see rows 1 and 3 above. Whereas when we compare all images, which includes more challenging images in the evaluation, the additional bands model granite-geospatial-uki-flood-detection helped increase the mIoU of this particular dataset by about 21 percentage points, which is an increase of approximately 36%. \n"
   ]
  },
  {
   "cell_type": "markdown",
   "metadata": {
    "id": "-JcFGp5rL-Fm"
   },
   "source": [
    "## Next steps\n",
    "To learn how to fine tune the base granite-geospatial-uki model for flood detection in a difference location, check out the [2_fine_tuning](./2_fine_tuning.ipynb)  notebook."
   ]
  }
 ],
 "metadata": {
  "colab": {
   "provenance": []
  },
  "kernelspec": {
   "display_name": "Python 3 (ipykernel)",
   "language": "python",
   "name": "python3"
  },
  "language_info": {
   "codemirror_mode": {
    "name": "ipython",
    "version": 3
   },
   "file_extension": ".py",
   "mimetype": "text/x-python",
   "name": "python",
   "nbconvert_exporter": "python",
   "pygments_lexer": "ipython3",
   "version": "3.10.14"
  },
  "widgets": {
   "application/vnd.jupyter.widget-state+json": {
    "065707411e6c4db49587b3c5379e13dd": {
     "model_module": "@jupyter-widgets/controls",
     "model_module_version": "1.5.0",
     "model_name": "LabelModel",
     "state": {
      "_dom_classes": [],
      "_model_module": "@jupyter-widgets/controls",
      "_model_module_version": "1.5.0",
      "_model_name": "LabelModel",
      "_view_count": null,
      "_view_module": "@jupyter-widgets/controls",
      "_view_module_version": "1.5.0",
      "_view_name": "LabelView",
      "description": "",
      "description_tooltip": null,
      "layout": "IPY_MODEL_3a1dd499244240de8e2e9daed23301ca",
      "placeholder": "​",
      "style": "IPY_MODEL_4ac71ef509d944658adaf2ba13dab4e6",
      "value": "Connecting..."
     }
    },
    "13df5f928a2d456eba073537a8f4f05c": {
     "model_module": "@jupyter-widgets/base",
     "model_module_version": "1.2.0",
     "model_name": "LayoutModel",
     "state": {
      "_model_module": "@jupyter-widgets/base",
      "_model_module_version": "1.2.0",
      "_model_name": "LayoutModel",
      "_view_count": null,
      "_view_module": "@jupyter-widgets/base",
      "_view_module_version": "1.2.0",
      "_view_name": "LayoutView",
      "align_content": null,
      "align_items": null,
      "align_self": null,
      "border": null,
      "bottom": null,
      "display": null,
      "flex": null,
      "flex_flow": null,
      "grid_area": null,
      "grid_auto_columns": null,
      "grid_auto_flow": null,
      "grid_auto_rows": null,
      "grid_column": null,
      "grid_gap": null,
      "grid_row": null,
      "grid_template_areas": null,
      "grid_template_columns": null,
      "grid_template_rows": null,
      "height": null,
      "justify_content": null,
      "justify_items": null,
      "left": null,
      "margin": null,
      "max_height": null,
      "max_width": null,
      "min_height": null,
      "min_width": null,
      "object_fit": null,
      "object_position": null,
      "order": null,
      "overflow": null,
      "overflow_x": null,
      "overflow_y": null,
      "padding": null,
      "right": null,
      "top": null,
      "visibility": null,
      "width": null
     }
    },
    "1474007c34db4c77b145f7257b177bc7": {
     "model_module": "@jupyter-widgets/base",
     "model_module_version": "1.2.0",
     "model_name": "LayoutModel",
     "state": {
      "_model_module": "@jupyter-widgets/base",
      "_model_module_version": "1.2.0",
      "_model_name": "LayoutModel",
      "_view_count": null,
      "_view_module": "@jupyter-widgets/base",
      "_view_module_version": "1.2.0",
      "_view_name": "LayoutView",
      "align_content": null,
      "align_items": null,
      "align_self": null,
      "border": null,
      "bottom": null,
      "display": null,
      "flex": null,
      "flex_flow": null,
      "grid_area": null,
      "grid_auto_columns": null,
      "grid_auto_flow": null,
      "grid_auto_rows": null,
      "grid_column": null,
      "grid_gap": null,
      "grid_row": null,
      "grid_template_areas": null,
      "grid_template_columns": null,
      "grid_template_rows": null,
      "height": null,
      "justify_content": null,
      "justify_items": null,
      "left": null,
      "margin": null,
      "max_height": null,
      "max_width": null,
      "min_height": null,
      "min_width": null,
      "object_fit": null,
      "object_position": null,
      "order": null,
      "overflow": null,
      "overflow_x": null,
      "overflow_y": null,
      "padding": null,
      "right": null,
      "top": null,
      "visibility": null,
      "width": null
     }
    },
    "1d152e79d75c4bd3ace22e3d8a27cc58": {
     "model_module": "@jupyter-widgets/controls",
     "model_module_version": "1.5.0",
     "model_name": "DescriptionStyleModel",
     "state": {
      "_model_module": "@jupyter-widgets/controls",
      "_model_module_version": "1.5.0",
      "_model_name": "DescriptionStyleModel",
      "_view_count": null,
      "_view_module": "@jupyter-widgets/base",
      "_view_module_version": "1.2.0",
      "_view_name": "StyleView",
      "description_width": ""
     }
    },
    "21f0a85c5eac44b4a5e041194b41d674": {
     "model_module": "@jupyter-widgets/controls",
     "model_module_version": "1.5.0",
     "model_name": "DescriptionStyleModel",
     "state": {
      "_model_module": "@jupyter-widgets/controls",
      "_model_module_version": "1.5.0",
      "_model_name": "DescriptionStyleModel",
      "_view_count": null,
      "_view_module": "@jupyter-widgets/base",
      "_view_module_version": "1.2.0",
      "_view_name": "StyleView",
      "description_width": ""
     }
    },
    "3a1dd499244240de8e2e9daed23301ca": {
     "model_module": "@jupyter-widgets/base",
     "model_module_version": "1.2.0",
     "model_name": "LayoutModel",
     "state": {
      "_model_module": "@jupyter-widgets/base",
      "_model_module_version": "1.2.0",
      "_model_name": "LayoutModel",
      "_view_count": null,
      "_view_module": "@jupyter-widgets/base",
      "_view_module_version": "1.2.0",
      "_view_name": "LayoutView",
      "align_content": null,
      "align_items": null,
      "align_self": null,
      "border": null,
      "bottom": null,
      "display": null,
      "flex": null,
      "flex_flow": null,
      "grid_area": null,
      "grid_auto_columns": null,
      "grid_auto_flow": null,
      "grid_auto_rows": null,
      "grid_column": null,
      "grid_gap": null,
      "grid_row": null,
      "grid_template_areas": null,
      "grid_template_columns": null,
      "grid_template_rows": null,
      "height": null,
      "justify_content": null,
      "justify_items": null,
      "left": null,
      "margin": null,
      "max_height": null,
      "max_width": null,
      "min_height": null,
      "min_width": null,
      "object_fit": null,
      "object_position": null,
      "order": null,
      "overflow": null,
      "overflow_x": null,
      "overflow_y": null,
      "padding": null,
      "right": null,
      "top": null,
      "visibility": null,
      "width": null
     }
    },
    "4ac71ef509d944658adaf2ba13dab4e6": {
     "model_module": "@jupyter-widgets/controls",
     "model_module_version": "1.5.0",
     "model_name": "DescriptionStyleModel",
     "state": {
      "_model_module": "@jupyter-widgets/controls",
      "_model_module_version": "1.5.0",
      "_model_name": "DescriptionStyleModel",
      "_view_count": null,
      "_view_module": "@jupyter-widgets/base",
      "_view_module_version": "1.2.0",
      "_view_name": "StyleView",
      "description_width": ""
     }
    },
    "4c8b6e1667db4b2f853d78c7a63c43fb": {
     "model_module": "@jupyter-widgets/base",
     "model_module_version": "1.2.0",
     "model_name": "LayoutModel",
     "state": {
      "_model_module": "@jupyter-widgets/base",
      "_model_module_version": "1.2.0",
      "_model_name": "LayoutModel",
      "_view_count": null,
      "_view_module": "@jupyter-widgets/base",
      "_view_module_version": "1.2.0",
      "_view_name": "LayoutView",
      "align_content": null,
      "align_items": null,
      "align_self": null,
      "border": null,
      "bottom": null,
      "display": null,
      "flex": null,
      "flex_flow": null,
      "grid_area": null,
      "grid_auto_columns": null,
      "grid_auto_flow": null,
      "grid_auto_rows": null,
      "grid_column": null,
      "grid_gap": null,
      "grid_row": null,
      "grid_template_areas": null,
      "grid_template_columns": null,
      "grid_template_rows": null,
      "height": null,
      "justify_content": null,
      "justify_items": null,
      "left": null,
      "margin": null,
      "max_height": null,
      "max_width": null,
      "min_height": null,
      "min_width": null,
      "object_fit": null,
      "object_position": null,
      "order": null,
      "overflow": null,
      "overflow_x": null,
      "overflow_y": null,
      "padding": null,
      "right": null,
      "top": null,
      "visibility": null,
      "width": null
     }
    },
    "53f28914df40480ba32cf89ef99a1fe8": {
     "model_module": "@jupyter-widgets/controls",
     "model_module_version": "1.5.0",
     "model_name": "ProgressStyleModel",
     "state": {
      "_model_module": "@jupyter-widgets/controls",
      "_model_module_version": "1.5.0",
      "_model_name": "ProgressStyleModel",
      "_view_count": null,
      "_view_module": "@jupyter-widgets/base",
      "_view_module_version": "1.2.0",
      "_view_name": "StyleView",
      "bar_color": null,
      "description_width": ""
     }
    },
    "570710ed00224403a193629393d41fa3": {
     "model_module": "@jupyter-widgets/controls",
     "model_module_version": "1.5.0",
     "model_name": "HTMLModel",
     "state": {
      "_dom_classes": [],
      "_model_module": "@jupyter-widgets/controls",
      "_model_module_version": "1.5.0",
      "_model_name": "HTMLModel",
      "_view_count": null,
      "_view_module": "@jupyter-widgets/controls",
      "_view_module_version": "1.5.0",
      "_view_name": "HTMLView",
      "description": "",
      "description_tooltip": null,
      "layout": "IPY_MODEL_a5275746181344399267ea21a0acb9ac",
      "placeholder": "​",
      "style": "IPY_MODEL_a0c49f964a5149dc9bd5a9c8bb5d3e88",
      "value": "\n<b>Pro Tip:</b> If you don't already have one, you can create a dedicated\n'notebooks' token with 'write' access, that you can then easily reuse for all\nnotebooks. </center>"
     }
    },
    "57fb6d0ae9fb47969bb1ded449026ef7": {
     "model_module": "@jupyter-widgets/controls",
     "model_module_version": "1.5.0",
     "model_name": "HTMLModel",
     "state": {
      "_dom_classes": [],
      "_model_module": "@jupyter-widgets/controls",
      "_model_module_version": "1.5.0",
      "_model_name": "HTMLModel",
      "_view_count": null,
      "_view_module": "@jupyter-widgets/controls",
      "_view_module_version": "1.5.0",
      "_view_name": "HTMLView",
      "description": "",
      "description_tooltip": null,
      "layout": "IPY_MODEL_b5801ad520b14fbcbce7fcd58275f7c0",
      "placeholder": "​",
      "style": "IPY_MODEL_bfb6b1b3cf684a77a540c7c629ac7196",
      "value": "(…)e_geospatial_uki_flood_detection_v1.ckpt: 100%"
     }
    },
    "5921df9fcb4e42a1ad1da01a6224f013": {
     "model_module": "@jupyter-widgets/controls",
     "model_module_version": "1.5.0",
     "model_name": "HBoxModel",
     "state": {
      "_dom_classes": [],
      "_model_module": "@jupyter-widgets/controls",
      "_model_module_version": "1.5.0",
      "_model_name": "HBoxModel",
      "_view_count": null,
      "_view_module": "@jupyter-widgets/controls",
      "_view_module_version": "1.5.0",
      "_view_name": "HBoxView",
      "box_style": "",
      "children": [
       "IPY_MODEL_57fb6d0ae9fb47969bb1ded449026ef7",
       "IPY_MODEL_80492eafd7664a84b43a39c419e6fec6",
       "IPY_MODEL_b289080cd56e4d2489c5124f732d70d4"
      ],
      "layout": "IPY_MODEL_89bafcdc70de4fc8af0176383cfc27de"
     }
    },
    "61308e061da84c088553bc73a32c1c41": {
     "model_module": "@jupyter-widgets/base",
     "model_module_version": "1.2.0",
     "model_name": "LayoutModel",
     "state": {
      "_model_module": "@jupyter-widgets/base",
      "_model_module_version": "1.2.0",
      "_model_name": "LayoutModel",
      "_view_count": null,
      "_view_module": "@jupyter-widgets/base",
      "_view_module_version": "1.2.0",
      "_view_name": "LayoutView",
      "align_content": null,
      "align_items": "center",
      "align_self": null,
      "border": null,
      "bottom": null,
      "display": "flex",
      "flex": null,
      "flex_flow": "column",
      "grid_area": null,
      "grid_auto_columns": null,
      "grid_auto_flow": null,
      "grid_auto_rows": null,
      "grid_column": null,
      "grid_gap": null,
      "grid_row": null,
      "grid_template_areas": null,
      "grid_template_columns": null,
      "grid_template_rows": null,
      "height": null,
      "justify_content": null,
      "justify_items": null,
      "left": null,
      "margin": null,
      "max_height": null,
      "max_width": null,
      "min_height": null,
      "min_width": null,
      "object_fit": null,
      "object_position": null,
      "order": null,
      "overflow": null,
      "overflow_x": null,
      "overflow_y": null,
      "padding": null,
      "right": null,
      "top": null,
      "visibility": null,
      "width": "50%"
     }
    },
    "6f96b4a623d94c3490750c0b31106ec8": {
     "model_module": "@jupyter-widgets/base",
     "model_module_version": "1.2.0",
     "model_name": "LayoutModel",
     "state": {
      "_model_module": "@jupyter-widgets/base",
      "_model_module_version": "1.2.0",
      "_model_name": "LayoutModel",
      "_view_count": null,
      "_view_module": "@jupyter-widgets/base",
      "_view_module_version": "1.2.0",
      "_view_name": "LayoutView",
      "align_content": null,
      "align_items": null,
      "align_self": null,
      "border": null,
      "bottom": null,
      "display": null,
      "flex": null,
      "flex_flow": null,
      "grid_area": null,
      "grid_auto_columns": null,
      "grid_auto_flow": null,
      "grid_auto_rows": null,
      "grid_column": null,
      "grid_gap": null,
      "grid_row": null,
      "grid_template_areas": null,
      "grid_template_columns": null,
      "grid_template_rows": null,
      "height": null,
      "justify_content": null,
      "justify_items": null,
      "left": null,
      "margin": null,
      "max_height": null,
      "max_width": null,
      "min_height": null,
      "min_width": null,
      "object_fit": null,
      "object_position": null,
      "order": null,
      "overflow": null,
      "overflow_x": null,
      "overflow_y": null,
      "padding": null,
      "right": null,
      "top": null,
      "visibility": null,
      "width": null
     }
    },
    "76412b10621d4bfc8a040a3410b6c4e8": {
     "model_module": "@jupyter-widgets/controls",
     "model_module_version": "1.5.0",
     "model_name": "CheckboxModel",
     "state": {
      "_dom_classes": [],
      "_model_module": "@jupyter-widgets/controls",
      "_model_module_version": "1.5.0",
      "_model_name": "CheckboxModel",
      "_view_count": null,
      "_view_module": "@jupyter-widgets/controls",
      "_view_module_version": "1.5.0",
      "_view_name": "CheckboxView",
      "description": "Add token as git credential?",
      "description_tooltip": null,
      "disabled": false,
      "indent": true,
      "layout": "IPY_MODEL_6f96b4a623d94c3490750c0b31106ec8",
      "style": "IPY_MODEL_1d152e79d75c4bd3ace22e3d8a27cc58",
      "value": false
     }
    },
    "80492eafd7664a84b43a39c419e6fec6": {
     "model_module": "@jupyter-widgets/controls",
     "model_module_version": "1.5.0",
     "model_name": "FloatProgressModel",
     "state": {
      "_dom_classes": [],
      "_model_module": "@jupyter-widgets/controls",
      "_model_module_version": "1.5.0",
      "_model_name": "FloatProgressModel",
      "_view_count": null,
      "_view_module": "@jupyter-widgets/controls",
      "_view_module_version": "1.5.0",
      "_view_name": "ProgressView",
      "bar_style": "success",
      "description": "",
      "description_tooltip": null,
      "layout": "IPY_MODEL_1474007c34db4c77b145f7257b177bc7",
      "max": 1130352610,
      "min": 0,
      "orientation": "horizontal",
      "style": "IPY_MODEL_53f28914df40480ba32cf89ef99a1fe8",
      "value": 1130352610
     }
    },
    "8411cf648f0d420ba54ca2388295a21a": {
     "model_module": "@jupyter-widgets/base",
     "model_module_version": "1.2.0",
     "model_name": "LayoutModel",
     "state": {
      "_model_module": "@jupyter-widgets/base",
      "_model_module_version": "1.2.0",
      "_model_name": "LayoutModel",
      "_view_count": null,
      "_view_module": "@jupyter-widgets/base",
      "_view_module_version": "1.2.0",
      "_view_name": "LayoutView",
      "align_content": null,
      "align_items": null,
      "align_self": null,
      "border": null,
      "bottom": null,
      "display": null,
      "flex": null,
      "flex_flow": null,
      "grid_area": null,
      "grid_auto_columns": null,
      "grid_auto_flow": null,
      "grid_auto_rows": null,
      "grid_column": null,
      "grid_gap": null,
      "grid_row": null,
      "grid_template_areas": null,
      "grid_template_columns": null,
      "grid_template_rows": null,
      "height": null,
      "justify_content": null,
      "justify_items": null,
      "left": null,
      "margin": null,
      "max_height": null,
      "max_width": null,
      "min_height": null,
      "min_width": null,
      "object_fit": null,
      "object_position": null,
      "order": null,
      "overflow": null,
      "overflow_x": null,
      "overflow_y": null,
      "padding": null,
      "right": null,
      "top": null,
      "visibility": null,
      "width": null
     }
    },
    "841d729ffd6746cc84ed4bd1303ad211": {
     "model_module": "@jupyter-widgets/controls",
     "model_module_version": "1.5.0",
     "model_name": "HTMLModel",
     "state": {
      "_dom_classes": [],
      "_model_module": "@jupyter-widgets/controls",
      "_model_module_version": "1.5.0",
      "_model_name": "HTMLModel",
      "_view_count": null,
      "_view_module": "@jupyter-widgets/controls",
      "_view_module_version": "1.5.0",
      "_view_name": "HTMLView",
      "description": "",
      "description_tooltip": null,
      "layout": "IPY_MODEL_bb01339aa1984c93a4d752d732a1f8cd",
      "placeholder": "​",
      "style": "IPY_MODEL_caa84426a4df49f3a729c9bd1e11bddd",
      "value": "(…)e_geospatial_uki_flood_detection_v1.yaml: 100%"
     }
    },
    "89bafcdc70de4fc8af0176383cfc27de": {
     "model_module": "@jupyter-widgets/base",
     "model_module_version": "1.2.0",
     "model_name": "LayoutModel",
     "state": {
      "_model_module": "@jupyter-widgets/base",
      "_model_module_version": "1.2.0",
      "_model_name": "LayoutModel",
      "_view_count": null,
      "_view_module": "@jupyter-widgets/base",
      "_view_module_version": "1.2.0",
      "_view_name": "LayoutView",
      "align_content": null,
      "align_items": null,
      "align_self": null,
      "border": null,
      "bottom": null,
      "display": null,
      "flex": null,
      "flex_flow": null,
      "grid_area": null,
      "grid_auto_columns": null,
      "grid_auto_flow": null,
      "grid_auto_rows": null,
      "grid_column": null,
      "grid_gap": null,
      "grid_row": null,
      "grid_template_areas": null,
      "grid_template_columns": null,
      "grid_template_rows": null,
      "height": null,
      "justify_content": null,
      "justify_items": null,
      "left": null,
      "margin": null,
      "max_height": null,
      "max_width": null,
      "min_height": null,
      "min_width": null,
      "object_fit": null,
      "object_position": null,
      "order": null,
      "overflow": null,
      "overflow_x": null,
      "overflow_y": null,
      "padding": null,
      "right": null,
      "top": null,
      "visibility": null,
      "width": null
     }
    },
    "8d7ae93dfad54e5582076c306efbb1cf": {
     "model_module": "@jupyter-widgets/base",
     "model_module_version": "1.2.0",
     "model_name": "LayoutModel",
     "state": {
      "_model_module": "@jupyter-widgets/base",
      "_model_module_version": "1.2.0",
      "_model_name": "LayoutModel",
      "_view_count": null,
      "_view_module": "@jupyter-widgets/base",
      "_view_module_version": "1.2.0",
      "_view_name": "LayoutView",
      "align_content": null,
      "align_items": null,
      "align_self": null,
      "border": null,
      "bottom": null,
      "display": null,
      "flex": null,
      "flex_flow": null,
      "grid_area": null,
      "grid_auto_columns": null,
      "grid_auto_flow": null,
      "grid_auto_rows": null,
      "grid_column": null,
      "grid_gap": null,
      "grid_row": null,
      "grid_template_areas": null,
      "grid_template_columns": null,
      "grid_template_rows": null,
      "height": null,
      "justify_content": null,
      "justify_items": null,
      "left": null,
      "margin": null,
      "max_height": null,
      "max_width": null,
      "min_height": null,
      "min_width": null,
      "object_fit": null,
      "object_position": null,
      "order": null,
      "overflow": null,
      "overflow_x": null,
      "overflow_y": null,
      "padding": null,
      "right": null,
      "top": null,
      "visibility": null,
      "width": null
     }
    },
    "8e44597a23374d74b8a4479eb173b7d2": {
     "model_module": "@jupyter-widgets/controls",
     "model_module_version": "1.5.0",
     "model_name": "FloatProgressModel",
     "state": {
      "_dom_classes": [],
      "_model_module": "@jupyter-widgets/controls",
      "_model_module_version": "1.5.0",
      "_model_name": "FloatProgressModel",
      "_view_count": null,
      "_view_module": "@jupyter-widgets/controls",
      "_view_module_version": "1.5.0",
      "_view_name": "ProgressView",
      "bar_style": "success",
      "description": "",
      "description_tooltip": null,
      "layout": "IPY_MODEL_9da20ca5adcb4aed9c5b3328f1d2b875",
      "max": 3676,
      "min": 0,
      "orientation": "horizontal",
      "style": "IPY_MODEL_94486033a6cf41bfaf24a10d71b79590",
      "value": 3676
     }
    },
    "91f5148ce644465c94fb6160db6baef3": {
     "model_module": "@jupyter-widgets/controls",
     "model_module_version": "1.5.0",
     "model_name": "HBoxModel",
     "state": {
      "_dom_classes": [],
      "_model_module": "@jupyter-widgets/controls",
      "_model_module_version": "1.5.0",
      "_model_name": "HBoxModel",
      "_view_count": null,
      "_view_module": "@jupyter-widgets/controls",
      "_view_module_version": "1.5.0",
      "_view_name": "HBoxView",
      "box_style": "",
      "children": [
       "IPY_MODEL_841d729ffd6746cc84ed4bd1303ad211",
       "IPY_MODEL_8e44597a23374d74b8a4479eb173b7d2",
       "IPY_MODEL_f3815707194c4fa996c0ca6e62d80226"
      ],
      "layout": "IPY_MODEL_d6d610dd9a6a4d3da9040f9048ae5a3d"
     }
    },
    "94486033a6cf41bfaf24a10d71b79590": {
     "model_module": "@jupyter-widgets/controls",
     "model_module_version": "1.5.0",
     "model_name": "ProgressStyleModel",
     "state": {
      "_model_module": "@jupyter-widgets/controls",
      "_model_module_version": "1.5.0",
      "_model_name": "ProgressStyleModel",
      "_view_count": null,
      "_view_module": "@jupyter-widgets/base",
      "_view_module_version": "1.2.0",
      "_view_name": "StyleView",
      "bar_color": null,
      "description_width": ""
     }
    },
    "9da20ca5adcb4aed9c5b3328f1d2b875": {
     "model_module": "@jupyter-widgets/base",
     "model_module_version": "1.2.0",
     "model_name": "LayoutModel",
     "state": {
      "_model_module": "@jupyter-widgets/base",
      "_model_module_version": "1.2.0",
      "_model_name": "LayoutModel",
      "_view_count": null,
      "_view_module": "@jupyter-widgets/base",
      "_view_module_version": "1.2.0",
      "_view_name": "LayoutView",
      "align_content": null,
      "align_items": null,
      "align_self": null,
      "border": null,
      "bottom": null,
      "display": null,
      "flex": null,
      "flex_flow": null,
      "grid_area": null,
      "grid_auto_columns": null,
      "grid_auto_flow": null,
      "grid_auto_rows": null,
      "grid_column": null,
      "grid_gap": null,
      "grid_row": null,
      "grid_template_areas": null,
      "grid_template_columns": null,
      "grid_template_rows": null,
      "height": null,
      "justify_content": null,
      "justify_items": null,
      "left": null,
      "margin": null,
      "max_height": null,
      "max_width": null,
      "min_height": null,
      "min_width": null,
      "object_fit": null,
      "object_position": null,
      "order": null,
      "overflow": null,
      "overflow_x": null,
      "overflow_y": null,
      "padding": null,
      "right": null,
      "top": null,
      "visibility": null,
      "width": null
     }
    },
    "9f46895409d746799037dca4d8936213": {
     "model_module": "@jupyter-widgets/controls",
     "model_module_version": "1.5.0",
     "model_name": "ButtonModel",
     "state": {
      "_dom_classes": [],
      "_model_module": "@jupyter-widgets/controls",
      "_model_module_version": "1.5.0",
      "_model_name": "ButtonModel",
      "_view_count": null,
      "_view_module": "@jupyter-widgets/controls",
      "_view_module_version": "1.5.0",
      "_view_name": "ButtonView",
      "button_style": "",
      "description": "Login",
      "disabled": false,
      "icon": "",
      "layout": "IPY_MODEL_8411cf648f0d420ba54ca2388295a21a",
      "style": "IPY_MODEL_f13accd7e2e24dfaae74ed17ab249c06",
      "tooltip": ""
     }
    },
    "a0c49f964a5149dc9bd5a9c8bb5d3e88": {
     "model_module": "@jupyter-widgets/controls",
     "model_module_version": "1.5.0",
     "model_name": "DescriptionStyleModel",
     "state": {
      "_model_module": "@jupyter-widgets/controls",
      "_model_module_version": "1.5.0",
      "_model_name": "DescriptionStyleModel",
      "_view_count": null,
      "_view_module": "@jupyter-widgets/base",
      "_view_module_version": "1.2.0",
      "_view_name": "StyleView",
      "description_width": ""
     }
    },
    "a5275746181344399267ea21a0acb9ac": {
     "model_module": "@jupyter-widgets/base",
     "model_module_version": "1.2.0",
     "model_name": "LayoutModel",
     "state": {
      "_model_module": "@jupyter-widgets/base",
      "_model_module_version": "1.2.0",
      "_model_name": "LayoutModel",
      "_view_count": null,
      "_view_module": "@jupyter-widgets/base",
      "_view_module_version": "1.2.0",
      "_view_name": "LayoutView",
      "align_content": null,
      "align_items": null,
      "align_self": null,
      "border": null,
      "bottom": null,
      "display": null,
      "flex": null,
      "flex_flow": null,
      "grid_area": null,
      "grid_auto_columns": null,
      "grid_auto_flow": null,
      "grid_auto_rows": null,
      "grid_column": null,
      "grid_gap": null,
      "grid_row": null,
      "grid_template_areas": null,
      "grid_template_columns": null,
      "grid_template_rows": null,
      "height": null,
      "justify_content": null,
      "justify_items": null,
      "left": null,
      "margin": null,
      "max_height": null,
      "max_width": null,
      "min_height": null,
      "min_width": null,
      "object_fit": null,
      "object_position": null,
      "order": null,
      "overflow": null,
      "overflow_x": null,
      "overflow_y": null,
      "padding": null,
      "right": null,
      "top": null,
      "visibility": null,
      "width": null
     }
    },
    "b289080cd56e4d2489c5124f732d70d4": {
     "model_module": "@jupyter-widgets/controls",
     "model_module_version": "1.5.0",
     "model_name": "HTMLModel",
     "state": {
      "_dom_classes": [],
      "_model_module": "@jupyter-widgets/controls",
      "_model_module_version": "1.5.0",
      "_model_name": "HTMLModel",
      "_view_count": null,
      "_view_module": "@jupyter-widgets/controls",
      "_view_module_version": "1.5.0",
      "_view_name": "HTMLView",
      "description": "",
      "description_tooltip": null,
      "layout": "IPY_MODEL_13df5f928a2d456eba073537a8f4f05c",
      "placeholder": "​",
      "style": "IPY_MODEL_f415e0a6a5eb477c9a71a8b319135caf",
      "value": " 1.13G/1.13G [01:48&lt;00:00, 10.4MB/s]"
     }
    },
    "b5801ad520b14fbcbce7fcd58275f7c0": {
     "model_module": "@jupyter-widgets/base",
     "model_module_version": "1.2.0",
     "model_name": "LayoutModel",
     "state": {
      "_model_module": "@jupyter-widgets/base",
      "_model_module_version": "1.2.0",
      "_model_name": "LayoutModel",
      "_view_count": null,
      "_view_module": "@jupyter-widgets/base",
      "_view_module_version": "1.2.0",
      "_view_name": "LayoutView",
      "align_content": null,
      "align_items": null,
      "align_self": null,
      "border": null,
      "bottom": null,
      "display": null,
      "flex": null,
      "flex_flow": null,
      "grid_area": null,
      "grid_auto_columns": null,
      "grid_auto_flow": null,
      "grid_auto_rows": null,
      "grid_column": null,
      "grid_gap": null,
      "grid_row": null,
      "grid_template_areas": null,
      "grid_template_columns": null,
      "grid_template_rows": null,
      "height": null,
      "justify_content": null,
      "justify_items": null,
      "left": null,
      "margin": null,
      "max_height": null,
      "max_width": null,
      "min_height": null,
      "min_width": null,
      "object_fit": null,
      "object_position": null,
      "order": null,
      "overflow": null,
      "overflow_x": null,
      "overflow_y": null,
      "padding": null,
      "right": null,
      "top": null,
      "visibility": null,
      "width": null
     }
    },
    "bb01339aa1984c93a4d752d732a1f8cd": {
     "model_module": "@jupyter-widgets/base",
     "model_module_version": "1.2.0",
     "model_name": "LayoutModel",
     "state": {
      "_model_module": "@jupyter-widgets/base",
      "_model_module_version": "1.2.0",
      "_model_name": "LayoutModel",
      "_view_count": null,
      "_view_module": "@jupyter-widgets/base",
      "_view_module_version": "1.2.0",
      "_view_name": "LayoutView",
      "align_content": null,
      "align_items": null,
      "align_self": null,
      "border": null,
      "bottom": null,
      "display": null,
      "flex": null,
      "flex_flow": null,
      "grid_area": null,
      "grid_auto_columns": null,
      "grid_auto_flow": null,
      "grid_auto_rows": null,
      "grid_column": null,
      "grid_gap": null,
      "grid_row": null,
      "grid_template_areas": null,
      "grid_template_columns": null,
      "grid_template_rows": null,
      "height": null,
      "justify_content": null,
      "justify_items": null,
      "left": null,
      "margin": null,
      "max_height": null,
      "max_width": null,
      "min_height": null,
      "min_width": null,
      "object_fit": null,
      "object_position": null,
      "order": null,
      "overflow": null,
      "overflow_x": null,
      "overflow_y": null,
      "padding": null,
      "right": null,
      "top": null,
      "visibility": null,
      "width": null
     }
    },
    "bfb6b1b3cf684a77a540c7c629ac7196": {
     "model_module": "@jupyter-widgets/controls",
     "model_module_version": "1.5.0",
     "model_name": "DescriptionStyleModel",
     "state": {
      "_model_module": "@jupyter-widgets/controls",
      "_model_module_version": "1.5.0",
      "_model_name": "DescriptionStyleModel",
      "_view_count": null,
      "_view_module": "@jupyter-widgets/base",
      "_view_module_version": "1.2.0",
      "_view_name": "StyleView",
      "description_width": ""
     }
    },
    "c2894f3a10834b78a2289b4cad7a52e2": {
     "model_module": "@jupyter-widgets/controls",
     "model_module_version": "1.5.0",
     "model_name": "VBoxModel",
     "state": {
      "_dom_classes": [],
      "_model_module": "@jupyter-widgets/controls",
      "_model_module_version": "1.5.0",
      "_model_name": "VBoxModel",
      "_view_count": null,
      "_view_module": "@jupyter-widgets/controls",
      "_view_module_version": "1.5.0",
      "_view_name": "VBoxView",
      "box_style": "",
      "children": [],
      "layout": "IPY_MODEL_61308e061da84c088553bc73a32c1c41"
     }
    },
    "ca01955f58ac4046acca5b5b20584e7c": {
     "model_module": "@jupyter-widgets/base",
     "model_module_version": "1.2.0",
     "model_name": "LayoutModel",
     "state": {
      "_model_module": "@jupyter-widgets/base",
      "_model_module_version": "1.2.0",
      "_model_name": "LayoutModel",
      "_view_count": null,
      "_view_module": "@jupyter-widgets/base",
      "_view_module_version": "1.2.0",
      "_view_name": "LayoutView",
      "align_content": null,
      "align_items": null,
      "align_self": null,
      "border": null,
      "bottom": null,
      "display": null,
      "flex": null,
      "flex_flow": null,
      "grid_area": null,
      "grid_auto_columns": null,
      "grid_auto_flow": null,
      "grid_auto_rows": null,
      "grid_column": null,
      "grid_gap": null,
      "grid_row": null,
      "grid_template_areas": null,
      "grid_template_columns": null,
      "grid_template_rows": null,
      "height": null,
      "justify_content": null,
      "justify_items": null,
      "left": null,
      "margin": null,
      "max_height": null,
      "max_width": null,
      "min_height": null,
      "min_width": null,
      "object_fit": null,
      "object_position": null,
      "order": null,
      "overflow": null,
      "overflow_x": null,
      "overflow_y": null,
      "padding": null,
      "right": null,
      "top": null,
      "visibility": null,
      "width": null
     }
    },
    "caa84426a4df49f3a729c9bd1e11bddd": {
     "model_module": "@jupyter-widgets/controls",
     "model_module_version": "1.5.0",
     "model_name": "DescriptionStyleModel",
     "state": {
      "_model_module": "@jupyter-widgets/controls",
      "_model_module_version": "1.5.0",
      "_model_name": "DescriptionStyleModel",
      "_view_count": null,
      "_view_module": "@jupyter-widgets/base",
      "_view_module_version": "1.2.0",
      "_view_name": "StyleView",
      "description_width": ""
     }
    },
    "d6d610dd9a6a4d3da9040f9048ae5a3d": {
     "model_module": "@jupyter-widgets/base",
     "model_module_version": "1.2.0",
     "model_name": "LayoutModel",
     "state": {
      "_model_module": "@jupyter-widgets/base",
      "_model_module_version": "1.2.0",
      "_model_name": "LayoutModel",
      "_view_count": null,
      "_view_module": "@jupyter-widgets/base",
      "_view_module_version": "1.2.0",
      "_view_name": "LayoutView",
      "align_content": null,
      "align_items": null,
      "align_self": null,
      "border": null,
      "bottom": null,
      "display": null,
      "flex": null,
      "flex_flow": null,
      "grid_area": null,
      "grid_auto_columns": null,
      "grid_auto_flow": null,
      "grid_auto_rows": null,
      "grid_column": null,
      "grid_gap": null,
      "grid_row": null,
      "grid_template_areas": null,
      "grid_template_columns": null,
      "grid_template_rows": null,
      "height": null,
      "justify_content": null,
      "justify_items": null,
      "left": null,
      "margin": null,
      "max_height": null,
      "max_width": null,
      "min_height": null,
      "min_width": null,
      "object_fit": null,
      "object_position": null,
      "order": null,
      "overflow": null,
      "overflow_x": null,
      "overflow_y": null,
      "padding": null,
      "right": null,
      "top": null,
      "visibility": null,
      "width": null
     }
    },
    "da888befd4524a728d3ba37d863d8eab": {
     "model_module": "@jupyter-widgets/controls",
     "model_module_version": "1.5.0",
     "model_name": "HTMLModel",
     "state": {
      "_dom_classes": [],
      "_model_module": "@jupyter-widgets/controls",
      "_model_module_version": "1.5.0",
      "_model_name": "HTMLModel",
      "_view_count": null,
      "_view_module": "@jupyter-widgets/controls",
      "_view_module_version": "1.5.0",
      "_view_name": "HTMLView",
      "description": "",
      "description_tooltip": null,
      "layout": "IPY_MODEL_4c8b6e1667db4b2f853d78c7a63c43fb",
      "placeholder": "​",
      "style": "IPY_MODEL_e9c4ff381d6c4a719260fecac43ed93a",
      "value": "<center> <img\nsrc=https://huggingface.co/front/assets/huggingface_logo-noborder.svg\nalt='Hugging Face'> <br> Copy a token from <a\nhref=\"https://huggingface.co/settings/tokens\" target=\"_blank\">your Hugging Face\ntokens page</a> and paste it below. <br> Immediately click login after copying\nyour token or it might be stored in plain text in this notebook file. </center>"
     }
    },
    "e9c4ff381d6c4a719260fecac43ed93a": {
     "model_module": "@jupyter-widgets/controls",
     "model_module_version": "1.5.0",
     "model_name": "DescriptionStyleModel",
     "state": {
      "_model_module": "@jupyter-widgets/controls",
      "_model_module_version": "1.5.0",
      "_model_name": "DescriptionStyleModel",
      "_view_count": null,
      "_view_module": "@jupyter-widgets/base",
      "_view_module_version": "1.2.0",
      "_view_name": "StyleView",
      "description_width": ""
     }
    },
    "f13accd7e2e24dfaae74ed17ab249c06": {
     "model_module": "@jupyter-widgets/controls",
     "model_module_version": "1.5.0",
     "model_name": "ButtonStyleModel",
     "state": {
      "_model_module": "@jupyter-widgets/controls",
      "_model_module_version": "1.5.0",
      "_model_name": "ButtonStyleModel",
      "_view_count": null,
      "_view_module": "@jupyter-widgets/base",
      "_view_module_version": "1.2.0",
      "_view_name": "StyleView",
      "button_color": null,
      "font_weight": ""
     }
    },
    "f3815707194c4fa996c0ca6e62d80226": {
     "model_module": "@jupyter-widgets/controls",
     "model_module_version": "1.5.0",
     "model_name": "HTMLModel",
     "state": {
      "_dom_classes": [],
      "_model_module": "@jupyter-widgets/controls",
      "_model_module_version": "1.5.0",
      "_model_name": "HTMLModel",
      "_view_count": null,
      "_view_module": "@jupyter-widgets/controls",
      "_view_module_version": "1.5.0",
      "_view_name": "HTMLView",
      "description": "",
      "description_tooltip": null,
      "layout": "IPY_MODEL_ca01955f58ac4046acca5b5b20584e7c",
      "placeholder": "​",
      "style": "IPY_MODEL_fbaec2653be342bc9a064eeeb6c214c1",
      "value": " 3.68k/3.68k [00:00&lt;00:00, 186kB/s]"
     }
    },
    "f415e0a6a5eb477c9a71a8b319135caf": {
     "model_module": "@jupyter-widgets/controls",
     "model_module_version": "1.5.0",
     "model_name": "DescriptionStyleModel",
     "state": {
      "_model_module": "@jupyter-widgets/controls",
      "_model_module_version": "1.5.0",
      "_model_name": "DescriptionStyleModel",
      "_view_count": null,
      "_view_module": "@jupyter-widgets/base",
      "_view_module_version": "1.2.0",
      "_view_name": "StyleView",
      "description_width": ""
     }
    },
    "f57de84d7ac9451787cd8bc85789d697": {
     "model_module": "@jupyter-widgets/controls",
     "model_module_version": "1.5.0",
     "model_name": "PasswordModel",
     "state": {
      "_dom_classes": [],
      "_model_module": "@jupyter-widgets/controls",
      "_model_module_version": "1.5.0",
      "_model_name": "PasswordModel",
      "_view_count": null,
      "_view_module": "@jupyter-widgets/controls",
      "_view_module_version": "1.5.0",
      "_view_name": "PasswordView",
      "continuous_update": true,
      "description": "Token:",
      "description_tooltip": null,
      "disabled": false,
      "layout": "IPY_MODEL_8d7ae93dfad54e5582076c306efbb1cf",
      "placeholder": "​",
      "style": "IPY_MODEL_21f0a85c5eac44b4a5e041194b41d674",
      "value": ""
     }
    },
    "fbaec2653be342bc9a064eeeb6c214c1": {
     "model_module": "@jupyter-widgets/controls",
     "model_module_version": "1.5.0",
     "model_name": "DescriptionStyleModel",
     "state": {
      "_model_module": "@jupyter-widgets/controls",
      "_model_module_version": "1.5.0",
      "_model_name": "DescriptionStyleModel",
      "_view_count": null,
      "_view_module": "@jupyter-widgets/base",
      "_view_module_version": "1.2.0",
      "_view_name": "StyleView",
      "description_width": ""
     }
    }
   }
  }
 },
 "nbformat": 4,
 "nbformat_minor": 4
}
